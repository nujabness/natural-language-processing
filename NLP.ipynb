{
 "cells": [
  {
   "cell_type": "code",
   "execution_count": 116,
   "metadata": {},
   "outputs": [
    {
     "name": "stderr",
     "output_type": "stream",
     "text": [
      "[nltk_data] Downloading package stopwords to\n",
      "[nltk_data]     C:\\Users\\melassouri\\AppData\\Roaming\\nltk_data...\n",
      "[nltk_data]   Package stopwords is already up-to-date!\n"
     ]
    }
   ],
   "source": [
    "import pandas as pd\n",
    "import numpy as np\n",
    "import seaborn as sns\n",
    "import matplotlib.pyplot as plt\n",
    "from math import sqrt\n",
    "from numpy import concatenate\n",
    "from matplotlib import pyplot\n",
    "from pandas import read_csv\n",
    "from pandas import DataFrame\n",
    "from pandas import concat\n",
    "from sklearn.preprocessing import MinMaxScaler\n",
    "from sklearn.preprocessing import LabelEncoder\n",
    "from sklearn.metrics import mean_squared_error\n",
    "import keras\n",
    "from keras.models import Sequential\n",
    "from keras.layers import Dense\n",
    "from keras.layers import LSTM\n",
    "import time\n",
    "import random\n",
    "import requests\n",
    "from bs4 import BeautifulSoup\n",
    "import nltk\n",
    "import cltk\n",
    "\n",
    "nltk.download('stopwords')\n",
    "# Rends nos tracés inline\n",
    "%matplotlib inline\n",
    "plt.rcParams['figure.figsize'] = (15, 5)"
   ]
  },
  {
   "cell_type": "code",
   "execution_count": 117,
   "metadata": {},
   "outputs": [
    {
     "data": {
      "text/html": [
       "<div>\n",
       "<style scoped>\n",
       "    .dataframe tbody tr th:only-of-type {\n",
       "        vertical-align: middle;\n",
       "    }\n",
       "\n",
       "    .dataframe tbody tr th {\n",
       "        vertical-align: top;\n",
       "    }\n",
       "\n",
       "    .dataframe thead th {\n",
       "        text-align: right;\n",
       "    }\n",
       "</style>\n",
       "<table border=\"1\" class=\"dataframe\">\n",
       "  <thead>\n",
       "    <tr style=\"text-align: right;\">\n",
       "      <th></th>\n",
       "      <th>date</th>\n",
       "      <th>user</th>\n",
       "      <th>rating</th>\n",
       "      <th>review</th>\n",
       "    </tr>\n",
       "  </thead>\n",
       "  <tbody>\n",
       "    <tr>\n",
       "      <th>0</th>\n",
       "      <td>Commenté en France le 9 août 2018</td>\n",
       "      <td>Justine</td>\n",
       "      <td>1.0</td>\n",
       "      <td>Le téléphone n a jamais fonctionné et Apple no...</td>\n",
       "    </tr>\n",
       "    <tr>\n",
       "      <th>1</th>\n",
       "      <td>Commenté en France le 21 juin 2018</td>\n",
       "      <td>Gouyer Eric</td>\n",
       "      <td>1.0</td>\n",
       "      <td>Soit-disant le téléphone est certifié recondit...</td>\n",
       "    </tr>\n",
       "    <tr>\n",
       "      <th>2</th>\n",
       "      <td>Commenté en France le 13 décembre 2018</td>\n",
       "      <td>Peineau A.</td>\n",
       "      <td>5.0</td>\n",
       "      <td>Reçu aujourd'hui via UPS standard, bien emball...</td>\n",
       "    </tr>\n",
       "    <tr>\n",
       "      <th>3</th>\n",
       "      <td>Commenté en France le 23 juillet 2018</td>\n",
       "      <td>Solenn Laurent</td>\n",
       "      <td>1.0</td>\n",
       "      <td>iPhone reçu, la batterie ne tient pas une jour...</td>\n",
       "    </tr>\n",
       "    <tr>\n",
       "      <th>4</th>\n",
       "      <td>Commenté en France le 1 janvier 2019</td>\n",
       "      <td>val</td>\n",
       "      <td>1.0</td>\n",
       "      <td>J’ai offert ce portable à mon fils pour Noël.....</td>\n",
       "    </tr>\n",
       "    <tr>\n",
       "      <th>...</th>\n",
       "      <td>...</td>\n",
       "      <td>...</td>\n",
       "      <td>...</td>\n",
       "      <td>...</td>\n",
       "    </tr>\n",
       "    <tr>\n",
       "      <th>1342</th>\n",
       "      <td>Commenté en France le 16 août 2020</td>\n",
       "      <td>Kasei</td>\n",
       "      <td>3.0</td>\n",
       "      <td>au bout d'une semaine, le téléphone m'indique ...</td>\n",
       "    </tr>\n",
       "    <tr>\n",
       "      <th>1343</th>\n",
       "      <td>Commenté en France le 2 juillet 2020</td>\n",
       "      <td>Josué KAZI</td>\n",
       "      <td>4.0</td>\n",
       "      <td>Produit fiable.J’ai reçu le téléphone depuis u...</td>\n",
       "    </tr>\n",
       "    <tr>\n",
       "      <th>1344</th>\n",
       "      <td>Commenté en France le 21 avril 2020</td>\n",
       "      <td>Familyismyreligion</td>\n",
       "      <td>5.0</td>\n",
       "      <td>Livraison très rapide, plus rapide que prévu e...</td>\n",
       "    </tr>\n",
       "    <tr>\n",
       "      <th>1345</th>\n",
       "      <td>Commenté en France le 21 septembre 2019</td>\n",
       "      <td>charret</td>\n",
       "      <td>3.0</td>\n",
       "      <td>la batterie se décharge très vite .</td>\n",
       "    </tr>\n",
       "    <tr>\n",
       "      <th>1346</th>\n",
       "      <td>Commenté en France le 26 août 2020</td>\n",
       "      <td>Fatna</td>\n",
       "      <td>3.0</td>\n",
       "      <td>Bonjour le chargeur était défectueux et ne fon...</td>\n",
       "    </tr>\n",
       "  </tbody>\n",
       "</table>\n",
       "<p>1347 rows × 4 columns</p>\n",
       "</div>"
      ],
      "text/plain": [
       "                                         date                user  rating  \\\n",
       "0           Commenté en France le 9 août 2018             Justine     1.0   \n",
       "1          Commenté en France le 21 juin 2018         Gouyer Eric     1.0   \n",
       "2      Commenté en France le 13 décembre 2018          Peineau A.     5.0   \n",
       "3       Commenté en France le 23 juillet 2018      Solenn Laurent     1.0   \n",
       "4        Commenté en France le 1 janvier 2019                 val     1.0   \n",
       "...                                       ...                 ...     ...   \n",
       "1342       Commenté en France le 16 août 2020               Kasei     3.0   \n",
       "1343     Commenté en France le 2 juillet 2020          Josué KAZI     4.0   \n",
       "1344      Commenté en France le 21 avril 2020  Familyismyreligion     5.0   \n",
       "1345  Commenté en France le 21 septembre 2019             charret     3.0   \n",
       "1346       Commenté en France le 26 août 2020               Fatna     3.0   \n",
       "\n",
       "                                                 review  \n",
       "0     Le téléphone n a jamais fonctionné et Apple no...  \n",
       "1     Soit-disant le téléphone est certifié recondit...  \n",
       "2     Reçu aujourd'hui via UPS standard, bien emball...  \n",
       "3     iPhone reçu, la batterie ne tient pas une jour...  \n",
       "4     J’ai offert ce portable à mon fils pour Noël.....  \n",
       "...                                                 ...  \n",
       "1342  au bout d'une semaine, le téléphone m'indique ...  \n",
       "1343  Produit fiable.J’ai reçu le téléphone depuis u...  \n",
       "1344  Livraison très rapide, plus rapide que prévu e...  \n",
       "1345                la batterie se décharge très vite .  \n",
       "1346  Bonjour le chargeur était défectueux et ne fon...  \n",
       "\n",
       "[1347 rows x 4 columns]"
      ]
     },
     "execution_count": 117,
     "metadata": {},
     "output_type": "execute_result"
    }
   ],
   "source": [
    "# dfTrustPilote=pd.read_csv('trustpilot.csv')\n",
    "# dfTrustPilote\n",
    "\n",
    "df=pd.read_csv('corpus.csv')\n",
    "df"
   ]
  },
  {
   "cell_type": "code",
   "execution_count": 118,
   "metadata": {},
   "outputs": [
    {
     "name": "stdout",
     "output_type": "stream",
     "text": [
      "1: 348, 2: 93, 3: 129, 4: 235, 5: 542\n"
     ]
    }
   ],
   "source": [
    "print(\"1: {}, 2: {}, 3: {}, 4: {}, 5: {}\".format(\n",
    "len(df[df['rating'] == 1.0]),\n",
    "len(df[df['rating'] == 2.0]),\n",
    "len(df[df['rating'] == 3.0]),\n",
    "len(df[df['rating'] == 4.0]),\n",
    "len(df[df['rating'] == 5.0])))\n",
    "\n"
   ]
  },
  {
   "cell_type": "code",
   "execution_count": 119,
   "metadata": {},
   "outputs": [],
   "source": [
    "import re\n",
    "import string\n",
    "import spacy\n",
    "import fr_core_news_md\n",
    "from nltk.corpus import stopwords\n",
    "from nltk.stem.snowball import FrenchStemmer\n",
    "from cltk.lemmatize.french.lemma import LemmaReplacer\n",
    "from sklearn.feature_extraction.text import TfidfVectorizer\n",
    "from sklearn.ensemble import RandomForestClassifier\n",
    "from sklearn.linear_model import LogisticRegression\n",
    "from sklearn.model_selection import train_test_split\n",
    "from sklearn.ensemble import GradientBoostingClassifier\n",
    "from sklearn.metrics import accuracy_score\n",
    "\n",
    "\n",
    "nlp = fr_core_news_md.load()\n",
    "        \n",
    "def pre_processing(review):\n",
    "    #tokenization\n",
    "    words = re.split(r'\\W+', review) \n",
    "\n",
    "#     print(words)\n",
    "\n",
    "    #lowerCase\n",
    "    words = [word.lower() for word in words] \n",
    "\n",
    "    #suppression de la ponctuation\n",
    "    table = str.maketrans('', '', string.punctuation)\n",
    "    stripped = [w.translate(table) for w in words]\n",
    "\n",
    "    # suppression des mots non alpha\n",
    "    words = [word for word in stripped if word.isalpha()]\n",
    "\n",
    "    #suppression des stop words\n",
    "    stop_words = stopwords.words('french')\n",
    "    words = [w for w in words if not w in stop_words]\n",
    "    return words"
   ]
  },
  {
   "cell_type": "code",
   "execution_count": 120,
   "metadata": {},
   "outputs": [],
   "source": [
    "def stemmatization(words):\n",
    "    stemmer = FrenchStemmer()\n",
    "    stemmed = [stemmer.stem(word) for word in words]  \n",
    "#     print(words)\n",
    "#     print(stemmed)\n",
    "    return stemmed"
   ]
  },
  {
   "cell_type": "code",
   "execution_count": 121,
   "metadata": {},
   "outputs": [],
   "source": [
    "def lemmatization(words):\n",
    "    words_string = stringify(words)\n",
    "    spacy_words = nlp(words_string)\n",
    "    lemmed = [word.lemma_ for word in spacy_words]\n",
    "#     print(lemmed)\n",
    "    return lemmed"
   ]
  },
  {
   "cell_type": "code",
   "execution_count": 122,
   "metadata": {},
   "outputs": [],
   "source": [
    "def stringify(words):\n",
    "    str = \"\"\n",
    "    for word in words:\n",
    "        str += word+\" \"\n",
    "    return str\n"
   ]
  },
  {
   "cell_type": "code",
   "execution_count": 123,
   "metadata": {},
   "outputs": [],
   "source": [
    "def wordsCountsIDF(words):\n",
    "    for word in words:\n",
    "        if word in words_countsIDF:\n",
    "            words_countsIDF[word] += 1\n",
    "        else:\n",
    "            words_countsIDF[word] = 1\n",
    "def wordsCountsTF(words):\n",
    "    for word in words:\n",
    "        if word in words_countsTF:\n",
    "            words_countsTF[word] += 1\n",
    "        else:\n",
    "            words_countsTF[word] = 1 \n",
    "    for word in words:\n",
    "            words_countsTF[word]/len(words) "
   ]
  },
  {
   "cell_type": "code",
   "execution_count": 124,
   "metadata": {},
   "outputs": [],
   "source": [
    "def vectorise(words):\n",
    "    vectorizer = TfidfVectorizer()\n",
    "    vectorizer.fit(words)\n",
    "    vector = vectorizer.transform(words)\n",
    "    print(vector.shape)\n",
    "    return vector"
   ]
  },
  {
   "cell_type": "code",
   "execution_count": 125,
   "metadata": {
    "scrolled": false
   },
   "outputs": [
    {
     "name": "stdout",
     "output_type": "stream",
     "text": [
      "(1347, 2161)\n"
     ]
    }
   ],
   "source": [
    "words_countsTF = {}     \n",
    "words_countsIDF = {}    \n",
    "\n",
    "TF = []\n",
    "IDF = []\n",
    "TFIDF = []\n",
    "\n",
    "processed_review = []\n",
    "\n",
    "def main():\n",
    "    for review in df['review']: \n",
    "        words = pre_processing(review)\n",
    "        words_stem = stemmatization(words)\n",
    "        words_lem = lemmatization(words_stem)\n",
    "        processed_review.append(stringify(words_lem))\n",
    "main()\n",
    "df['processed_review'] = processed_review \n",
    "x = vectorise(df['processed_review'])\n",
    "\n",
    "df.loc[(df['rating'] > 3.0)]=1\n",
    "df.loc[(df['rating'] < 3.0)]=0\n",
    "y = df['rating']"
   ]
  },
  {
   "cell_type": "code",
   "execution_count": 126,
   "metadata": {},
   "outputs": [
    {
     "data": {
      "text/plain": [
       "0.8925925925925926"
      ]
     },
     "execution_count": 126,
     "metadata": {},
     "output_type": "execute_result"
    }
   ],
   "source": [
    "predictors = x # df[\"vectorised_review\"] \n",
    "target = y # df[\"rating\"]\n",
    "\n",
    "#On decoupe le dataset en 2 (test_size=0.2) soit 20% de test et 80% de train qui vont respectivement dans les val \n",
    "#_test _train\n",
    "x_train, x_val, y_train, y_val = train_test_split(predictors, target, test_size = 0.2)\n",
    "\n",
    "#On choisi un model pour predire notre resultat\n",
    "cls=LogisticRegression(max_iter=200).fit(x_train,y_train)\n",
    "\n",
    "#On calcul un score d'accurancy soit le nombre de prediction correcte obtenue\n",
    "cls.score(x_val,y_val)"
   ]
  },
  {
   "cell_type": "code",
   "execution_count": 127,
   "metadata": {},
   "outputs": [
    {
     "data": {
      "text/plain": [
       "0.8925925925925926"
      ]
     },
     "execution_count": 127,
     "metadata": {},
     "output_type": "execute_result"
    }
   ],
   "source": [
    "cls=RandomForestClassifier(max_depth=12,n_estimators=300).fit(x_train,y_train)\n",
    "\n",
    "cls.score(x_val,y_val)"
   ]
  },
  {
   "cell_type": "code",
   "execution_count": 128,
   "metadata": {},
   "outputs": [
    {
     "data": {
      "text/plain": [
       "0.8814814814814815"
      ]
     },
     "execution_count": 128,
     "metadata": {},
     "output_type": "execute_result"
    }
   ],
   "source": [
    "cls=GradientBoostingClassifier().fit(x_train,y_train)\n",
    "\n",
    "cls.score(x_val,y_val)"
   ]
  }
 ],
 "metadata": {
  "kernelspec": {
   "display_name": "Python 3",
   "language": "python",
   "name": "python3"
  },
  "language_info": {
   "codemirror_mode": {
    "name": "ipython",
    "version": 3
   },
   "file_extension": ".py",
   "mimetype": "text/x-python",
   "name": "python",
   "nbconvert_exporter": "python",
   "pygments_lexer": "ipython3",
   "version": "3.8.3"
  }
 },
 "nbformat": 4,
 "nbformat_minor": 4
}
